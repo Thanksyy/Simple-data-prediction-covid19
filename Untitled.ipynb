{
 "cells": [
  {
   "cell_type": "code",
   "execution_count": 46,
   "metadata": {},
   "outputs": [],
   "source": [
    "import pandas as pd\n",
    "import numpy as np\n",
    "import matplotlib.pyplot as plt\n",
    "from sklearn.metrics import mean_squared_error\n",
    "from scipy.optimize import curve_fit\n",
    "from scipy.optimize import fsolve"
   ]
  },
  {
   "cell_type": "code",
   "execution_count": 58,
   "metadata": {},
   "outputs": [],
   "source": [
    "data = pd.read_csv('Casos1.csv')"
   ]
  },
  {
   "cell_type": "code",
   "execution_count": 59,
   "metadata": {},
   "outputs": [
    {
     "data": {
      "text/plain": [
       "Index(['ID de caso', 'Fecha de diagnóstico', 'Ciudad de ubicación', 'Atención',\n",
       "       'Edad', 'Sexo', 'Tipo*', 'País de procedencia'],\n",
       "      dtype='object')"
      ]
     },
     "execution_count": 59,
     "metadata": {},
     "output_type": "execute_result"
    }
   ],
   "source": [
    "data.columns\n"
   ]
  },
  {
   "cell_type": "code",
   "execution_count": 60,
   "metadata": {},
   "outputs": [
    {
     "data": {
      "text/plain": [
       "0      06/03/2020\n",
       "1      09/03/2020\n",
       "2      09/03/2020\n",
       "3      11/03/2020\n",
       "4      11/03/2020\n",
       "          ...    \n",
       "191    21/03/2020\n",
       "192    21/03/2020\n",
       "193    21/03/2020\n",
       "194    21/03/2020\n",
       "195    21/03/2020\n",
       "Name: Fecha de diagnóstico, Length: 196, dtype: object"
      ]
     },
     "execution_count": 60,
     "metadata": {},
     "output_type": "execute_result"
    }
   ],
   "source": [
    "data['Fecha de diagnóstico']"
   ]
  },
  {
   "cell_type": "code",
   "execution_count": 61,
   "metadata": {},
   "outputs": [],
   "source": [
    "grouped= data.groupby('Fecha de diagnóstico')"
   ]
  },
  {
   "cell_type": "code",
   "execution_count": 62,
   "metadata": {},
   "outputs": [
    {
     "data": {
      "text/plain": [
       "{'06/03/2020': Int64Index([0], dtype='int64'),\n",
       " '09/03/2020': Int64Index([1, 2], dtype='int64'),\n",
       " '11/03/2020': Int64Index([3, 4, 5, 6, 7, 8], dtype='int64'),\n",
       " '12/03/2020': Int64Index([9, 10, 11, 12], dtype='int64'),\n",
       " '13/03/2020': Int64Index([13, 14, 15], dtype='int64'),\n",
       " '14/03/2020': Int64Index([16, 17, 18, 19, 20, 21, 22, 23], dtype='int64'),\n",
       " '15/03/2020': Int64Index([24, 25, 26, 27, 28, 29, 30, 31, 32, 33, 34, 35, 36, 37, 38, 39, 40,\n",
       "             41, 42, 43, 44],\n",
       "            dtype='int64'),\n",
       " '16/03/2020': Int64Index([45, 46, 47, 48, 49, 50, 51, 52, 53, 54, 55, 56], dtype='int64'),\n",
       " '17/03/2020': Int64Index([57, 58, 59, 60, 61, 62, 63, 64, 65, 66, 67, 68, 69, 70, 71, 72, 73,\n",
       "             74],\n",
       "            dtype='int64'),\n",
       " '18/03/2020': Int64Index([ 75,  76,  77,  78,  79,  80,  81,  82,  83,  84,  85,  86,  87,\n",
       "              88,  89,  90,  91,  92,  93,  94,  95,  96,  97,  98,  99, 100,\n",
       "             101],\n",
       "            dtype='int64'),\n",
       " '19/03/2020': Int64Index([102, 103, 104, 105, 106, 107, 108, 109, 110, 111, 112, 113, 114,\n",
       "             115, 116, 117, 118, 119, 120, 121, 122, 123, 124, 125, 126, 127],\n",
       "            dtype='int64'),\n",
       " '20/03/2020': Int64Index([128, 129, 130, 131, 132, 133, 134, 135, 136, 137, 138, 139, 140,\n",
       "             141, 142, 143, 144, 145, 146, 147, 148, 149, 150, 151, 152, 153,\n",
       "             154, 155, 156, 157, 158, 159, 160, 161, 162, 163, 164, 165, 166,\n",
       "             167, 168, 169, 170, 171, 172, 173, 174],\n",
       "            dtype='int64'),\n",
       " '21/03/2020': Int64Index([175, 176, 177, 178, 179, 180, 181, 182, 183, 184, 185, 186, 187,\n",
       "             188, 189, 190, 191, 192, 193, 194, 195],\n",
       "            dtype='int64')}"
      ]
     },
     "execution_count": 62,
     "metadata": {},
     "output_type": "execute_result"
    }
   ],
   "source": [
    "grouped.groups"
   ]
  },
  {
   "cell_type": "code",
   "execution_count": 63,
   "metadata": {},
   "outputs": [
    {
     "name": "stdout",
     "output_type": "stream",
     "text": [
      "dia: 01/03/2020 cantidad: 0  cantidad acumulada 0 \n",
      "dia: 02/03/2020 cantidad: 0  cantidad acumulada 0 \n",
      "dia: 03/03/2020 cantidad: 0  cantidad acumulada 0 \n",
      "dia: 04/03/2020 cantidad: 0  cantidad acumulada 0 \n",
      "dia: 05/03/2020 cantidad: 0  cantidad acumulada 0 \n",
      "dia: 06/03/2020 cantidad: 1  cantidad acumulada 1 \n",
      "dia: 07/03/2020 cantidad: 0  cantidad acumulada 1 \n",
      "dia: 08/03/2020 cantidad: 0  cantidad acumulada 1 \n",
      "dia: 09/03/2020 cantidad: 2  cantidad acumulada 3 \n",
      "dia: 10/03/2020 cantidad: 0  cantidad acumulada 3 \n",
      "dia: 11/03/2020 cantidad: 6  cantidad acumulada 9 \n",
      "dia: 12/03/2020 cantidad: 4  cantidad acumulada 13 \n",
      "dia: 13/03/2020 cantidad: 3  cantidad acumulada 16 \n",
      "dia: 14/03/2020 cantidad: 8  cantidad acumulada 24 \n",
      "dia: 15/03/2020 cantidad: 21  cantidad acumulada 45 \n",
      "dia: 16/03/2020 cantidad: 12  cantidad acumulada 57 \n",
      "dia: 17/03/2020 cantidad: 18  cantidad acumulada 75 \n",
      "dia: 18/03/2020 cantidad: 27  cantidad acumulada 102 \n",
      "dia: 19/03/2020 cantidad: 26  cantidad acumulada 128 \n",
      "dia: 20/03/2020 cantidad: 47  cantidad acumulada 175 \n"
     ]
    }
   ],
   "source": [
    "acum = 0\n",
    "\n",
    "keys = []\n",
    "\n",
    "for i in range(1,21):\n",
    "    if(i < 10):\n",
    "        keys.append(\"0\"+str(i)+\"/03/2020\")\n",
    "    else:\n",
    "        keys.append(str(i)+\"/03/2020\")\n",
    "\n",
    "groups = grouped.groups\n",
    "dataStore = {}\n",
    "acumData = []\n",
    "for key in keys:\n",
    "    #print(groups.get(key))\n",
    "    cases = 0\n",
    "    if key in groups:\n",
    "        acum+= len(groups.get(key))\n",
    "        cases = len(groups.get(key))\n",
    "    dataStore[key] = (cases,acum)\n",
    "    acumData.append(acum)\n",
    "    print(\"dia: {} cantidad: {}  cantidad acumulada {} \".format(key,cases,acum))"
   ]
  },
  {
   "cell_type": "code",
   "execution_count": 64,
   "metadata": {},
   "outputs": [
    {
     "name": "stdout",
     "output_type": "stream",
     "text": [
      "[1, 1, 1, 3, 3, 9, 13, 16, 24, 45, 57, 75, 102, 128, 175]\n"
     ]
    },
    {
     "data": {
      "image/png": "[encoded data removed]",
      "text/plain": [
       "<Figure size 432x288 with 1 Axes>"
      ]
     },
     "metadata": {
      "needs_background": "light"
     },
     "output_type": "display_data"
    }
   ],
   "source": [
    "plt.plot(list(range(1,21)),acumData)\n",
    "y_data = acumData[5:]\n",
    "print(y_data)"
   ]
  },
  {
   "cell_type": "code",
   "execution_count": 65,
   "metadata": {},
   "outputs": [
    {
     "name": "stdout",
     "output_type": "stream",
     "text": [
      "[ 0.40689767 -0.60724591]\n"
     ]
    }
   ],
   "source": [
    "log_y_data = np.log(y_data)\n",
    "x_data = range(1,len(y_data)+1)\n",
    "curve = np.polyfit(x_data,log_y_data ,1)\n",
    "print(curve)"
   ]
  },
  {
   "cell_type": "code",
   "execution_count": 66,
   "metadata": {},
   "outputs": [
    {
     "name": "stdout",
     "output_type": "stream",
     "text": [
      "[  0.81844569   1.22942851   1.84678651   2.77415107   4.1671921\n",
      "   6.25974922   9.40308469  14.12484729  21.2176448   31.8720933\n",
      "  47.87667722  71.91796911 108.03160498 162.279717   243.76853935]\n"
     ]
    },
    {
     "data": {
      "image/png": "[encoded data removed]",
      "text/plain": [
       "<Figure size 432x288 with 1 Axes>"
      ]
     },
     "metadata": {
      "needs_background": "light"
     },
     "output_type": "display_data"
    }
   ],
   "source": [
    "y = np.exp(curve[1]) * np.exp(curve[0]*x_data)\n",
    "plt.plot(x_data, y_data, \"o\")\n",
    "plt.plot(x_data, y)\n",
    "print(y)"
   ]
  },
  {
   "cell_type": "code",
   "execution_count": 67,
   "metadata": {},
   "outputs": [
    {
     "name": "stdout",
     "output_type": "stream",
     "text": [
      "[0, 1, 2, 3, 4, 5, 6, 7, 8, 9, 10, 11, 12, 13, 14, 15]\n",
      "[1, 1, 1, 3, 3, 9, 13, 16, 24, 45, 57, 75, 102, 128, 175]\n",
      "(array([3.57302253, 0.30220339, 2.08288908]), array([[3.84426405e+12, 1.08664730e+03, 3.56245786e+12],\n",
      "       [1.08664738e+03, 1.09006785e-04, 1.00699423e+03],\n",
      "       [3.56245786e+12, 1.00699413e+03, 3.30130965e+12]]))\n"
     ]
    },
    {
     "name": "stderr",
     "output_type": "stream",
     "text": [
      "<ipython-input-67-934f7c38a6e7>:5: RuntimeWarning: overflow encountered in exp\n",
      "  return a*np.exp(b*(x-c))\n"
     ]
    }
   ],
   "source": [
    "def logistic_model(x,a,b,c):\n",
    "    return c/(1+np.exp(-(x-b)/a))\n",
    "\n",
    "def exponential_model(x,a,b,c):\n",
    "    return a*np.exp(b*(x-c))\n",
    "\n",
    "print(list(range(0,len(y_data)+1)))\n",
    "print(list(y_data))\n",
    "fit = curve_fit(exponential_model,list(x_data),list(y_data), p0=[1,1,1])\n",
    "print(fit)"
   ]
  },
  {
   "cell_type": "code",
   "execution_count": 71,
   "metadata": {},
   "outputs": [
    {
     "name": "stdout",
     "output_type": "stream",
     "text": [
      "[  2.57579734   3.48463228   4.71413722   6.37745619   8.62765457\n",
      "  11.67180472  15.79004172  21.36134242  28.89840055  39.09480675\n",
      "  52.88887573  71.54999366  96.79543237 130.94837955 177.15172801\n",
      " 239.65729735 324.21710373 438.61268365 593.37118261 802.73410568]\n"
     ]
    },
    {
     "data": {
      "image/png": "[encoded data removed]",
      "text/plain": [
       "<Figure size 432x288 with 1 Axes>"
      ]
     },
     "metadata": {
      "needs_background": "light"
     },
     "output_type": "display_data"
    }
   ],
   "source": [
    "y2 = fit[0][0]*np.exp(fit[0][1]*(x_data-fit[0][2])) \n",
    "predicted_x_data = list(range(1,21))\n",
    "predicted_y2 = fit[0][0]*np.exp(fit[0][1]*(predicted_x_data-fit[0][2]))\n",
    "plt.plot(x_data, y_data, \"o\")\n",
    "plt.plot(predicted_x_data, predicted_y2)\n",
    "print(predicted_y2)"
   ]
  },
  {
   "cell_type": "code",
   "execution_count": null,
   "metadata": {},
   "outputs": [],
   "source": []
  },
  {
   "cell_type": "code",
   "execution_count": null,
   "metadata": {},
   "outputs": [],
   "source": []
  },
  {
   "cell_type": "code",
   "execution_count": null,
   "metadata": {},
   "outputs": [],
   "source": []
  },
  {
   "cell_type": "code",
   "execution_count": null,
   "metadata": {},
   "outputs": [],
   "source": []
  }
 ],
 "metadata": {
  "kernelspec": {
   "display_name": "Python 3",
   "language": "python",
   "name": "python3"
  },
  "language_info": {
   "codemirror_mode": {
    "name": "ipython",
    "version": 3
   },
   "file_extension": ".py",
   "mimetype": "text/x-python",
   "name": "python",
   "nbconvert_exporter": "python",
   "pygments_lexer": "ipython3",
   "version": "3.8.2"
  }
 },
 "nbformat": 4,
 "nbformat_minor": 4
}
